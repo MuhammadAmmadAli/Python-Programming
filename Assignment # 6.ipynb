{
 "cells": [
  {
   "cell_type": "markdown",
   "metadata": {},
   "source": [
    "Definition of OOP\n",
    "\n",
    "Object-oriented programming (OOP) is a programming language model in which programs\n",
    "are organized around data, or objects,rather than functions and logic."
   ]
  },
  {
   "cell_type": "markdown",
   "metadata": {},
   "source": [
    "5 benefits of OOP\n",
    "\n",
    "1 Re-usability.\n",
    "2 Data Redundancy.\n",
    "3 Code Maintenance.\n",
    "4 Security.\n",
    "5 Design Benefits."
   ]
  },
  {
   "cell_type": "markdown",
   "metadata": {},
   "source": [
    "1 A funtion do not have any refernce variable while methods are called by reference veriable\n",
    "2 Data passed to a funtion is explicitly passed while implicitly passed to the object.\n",
    "3 It does not have any access controling while it have access controlling"
   ]
  },
  {
   "cell_type": "markdown",
   "metadata": {},
   "source": [
    "Object:\n",
    "An object can be defined as a data field that has unique attributes and behavior.\n",
    "\n",
    "Class:\n",
    "The generalized form of object which defines the kind of data it contains. \n",
    "\n",
    "Method:\n",
    "The methods are the actions that perform operations. A method accepts parameters as arguments,\n",
    "manipulates these, and then produces an output.\n",
    "\n",
    "Behavior:\n",
    "The behavior of an object is defined by its methods, which are the functions\n",
    "and subroutines defined within the object class. Or we can say the methods are used \n",
    "to implement the functionalities of an object"
   ]
  },
  {
   "cell_type": "code",
   "execution_count": 1,
   "metadata": {},
   "outputs": [
    {
     "name": "stdout",
     "output_type": "stream",
     "text": [
      "Car name is  Corolla\n",
      "Audi\n",
      "KHI-789\n"
     ]
    }
   ],
   "source": [
    "class Car:\n",
    "    def __init__(self,model,color,name,company,number):\n",
    "        self.model=model\n",
    "        self.color=color\n",
    "        self.name=name\n",
    "        self.company=company\n",
    "        self.number=number\n",
    "    def carname(self):\n",
    "        print('Car name is ',self.name)\n",
    "    def UpdateCompany(self):\n",
    "        self.company= \"Audi\"\n",
    "        print(self.company)\n",
    "    def carnumber(self):\n",
    "        print(self.number)\n",
    "car1 = Car('2019','Black','Corolla','Toyota','KHI-111')\n",
    "car2 = Car('2018','Blue','Civic','Honda','KHI-222')\n",
    "car3 = Car('2017','Golden','I8','Audi','KHI-333')\n",
    "car4 = Car('2016','Red-Wine','GT14','Ford','KHI-444')\n",
    "car5 = Car('2015','White','Kia','Sportage','KHI-555')\n",
    "car1.carname()\n",
    "car2.UpdateCompany()\n",
    "car3.carnumber()"
   ]
  }
 ],
 "metadata": {
  "kernelspec": {
   "display_name": "Python 3",
   "language": "python",
   "name": "python3"
  },
  "language_info": {
   "codemirror_mode": {
    "name": "ipython",
    "version": 3
   },
   "file_extension": ".py",
   "mimetype": "text/x-python",
   "name": "python",
   "nbconvert_exporter": "python",
   "pygments_lexer": "ipython3",
   "version": "3.7.4"
  }
 },
 "nbformat": 4,
 "nbformat_minor": 2
}
