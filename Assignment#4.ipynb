{
 "cells": [
  {
   "cell_type": "code",
   "execution_count": null,
   "metadata": {},
   "outputs": [],
   "source": [
    "Person={\n",
    "    \"First_name\":\"Owais\",\n",
    "    \"Last_name\":\"Gulahmed\",\n",
    "    \"Age\":20,\n",
    "    \"City\":\"Karachi\"\n",
    "}\n",
    "print(\"\\n\",Person)\n",
    "add=input(\"Enter your Qualification:\")\n",
    "Person[\"Qualification\"]=add\n",
    "print(\"\\nAfter adding the value:\\n\",Person)\n",
    "Person.update(Qualification=\"graduate\")\n",
    "print(\"\\nAfter updating the dictionary :\\n\",Person)\n",
    "del Person[\"Qualification\"]\n",
    "print(\"\\nDictionary after Delete :\\n\",Person)"
   ]
  },
  {
   "cell_type": "code",
   "execution_count": null,
   "metadata": {},
   "outputs": [],
   "source": [
    "Cities={\n",
    "    \"Karachi\":{\n",
    "        \"Population\":\"16.62 million\",\n",
    "        \"Fact\":\"It is the Sixth largest City in the world by city population\",\n",
    "        \"Country\":\"Pakistan\"\n",
    "    },\n",
    "    \"Istanbul\":{\n",
    "        \"Population\":\"15.07\",\n",
    "        \"Fact\":\"Istanbul is the only city in the world which is both in Europe and Asia geographicaly\",\n",
    "        \"Country\":\"Turkey\"\n",
    "    },\n",
    "    \"Sydney\":{\n",
    "        \"Population\":\"5.23 million\",\n",
    "        \"Fact\":\"It is the 12th most expensive city with property prices averaging USD8,717 per square metre\",\n",
    "        \"Country\":\"Australia\"\n",
    "    }\n",
    "}\n",
    "for c_name,c_info in Cities.items():\n",
    "     print(\"\\nCities Name: \", c_name)\n",
    "     for key in c_info:\n",
    "         print(key+\":\",c_info[key])\n"
   ]
  },
  {
   "cell_type": "code",
   "execution_count": null,
   "metadata": {},
   "outputs": [],
   "source": [
    "repeat='y'\n",
    "while repeat == 'y':\n",
    "    age = int(input(\"Tell your Age: \"))\n",
    "    if age < 3:\n",
    "        print(\"Your ticket's price is Free\")\n",
    "    elif age >= 3 and age <= 12:\n",
    "        print(\"Your ticket's price is $10\")\n",
    "    elif age > 12:\n",
    "        print(\"Your ticket's is $15\")\n",
    "    else:\n",
    "        print(\"Invalid Input\")\n",
    "    repeat = input(\"Do you want to Continue Press y for Yes & Press any keys for exit: \")\n",
    "    if repeat != 'y':\n",
    "        print(\"Program is Terminate\")"
   ]
  },
  {
   "cell_type": "code",
   "execution_count": null,
   "metadata": {},
   "outputs": [],
   "source": [
    "def favorite_book(title):\n",
    "    print(\"My favorite book is :\",title)\n",
    "title=str(input(\"Enter your books title:\"))\n",
    "favorite_book(title)\n"
   ]
  },
  {
   "cell_type": "code",
   "execution_count": null,
   "metadata": {},
   "outputs": [],
   "source": [
    "import random\n",
    "count = 0\n",
    "while count < 3:\n",
    "    guess = int(input(\"Enter the Guess Number: \"))\n",
    "    count += 1\n",
    "    rand = random.randint(1,30)\n",
    "    if guess == rand:\n",
    "        print(\"You Guess Correct Number\")\n",
    "    elif guess > rand:\n",
    "        print(\"You Guess Higher Number\")\n",
    "    elif guess < rand:\n",
    "        print(\"You Guess Lower Number\")\n",
    "    print(\"Computer's Guess Number: \",rand)"
   ]
  }
 ],
 "metadata": {
  "kernelspec": {
   "display_name": "Python 3",
   "language": "python",
   "name": "python3"
  }
 },
 "nbformat": 4,
 "nbformat_minor": 2
}
