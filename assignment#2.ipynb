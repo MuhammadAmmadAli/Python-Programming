{
 "cells": [
  {
   "cell_type": "code",
   "execution_count": 1,
   "metadata": {},
   "outputs": [
    {
     "name": "stdout",
     "output_type": "stream",
     "text": [
      "Enter marks of subject 1 out of 20 : 2\n",
      "Enter marks of subject 2 out of 20 : 3\n",
      "Enter marks of subject 3 out of 20 : 4\n",
      "Enter marks of subject 4 out of 20 : 5\n",
      "Enter marks of subject 5 out of 20 : 6\n",
      "total marsk are:  20.0 the grade is Fail\n"
     ]
    }
   ],
   "source": [
    "s1=float(input(\"Enter marks of subject 1 out of 20 : \"))\n",
    "s2=float(input(\"Enter marks of subject 2 out of 20 : \"))\n",
    "s3=float(input(\"Enter marks of subject 3 out of 20 : \"))\n",
    "s4=float(input(\"Enter marks of subject 4 out of 20 : \"))\n",
    "s5=float(input(\"Enter marks of subject 5 out of 20 : \"))\n",
    "s=s1+s2+s3+s4+s5\n",
    "if s >= 90 and s <=100:\n",
    "    print(\"total marks are: \",s,\"the grade is A++\")\n",
    "elif s >= 80 and s <90:\n",
    "    print(\"total marks are: \",s,\"the grade is A+\")\n",
    "elif s >= 70 and s <80:\n",
    "    print(\"total marks are: \",s,\"the grade is A\")\n",
    "elif s >= 60 and s <70:\n",
    "    print(\"total marks are: \",s,\"the grade is B\")\n",
    "elif s >= 50 and s <60:\n",
    "    print(\"total marks are: \",s,\"the grade is C\" ) \n",
    "else: print (\"total marsk are: \",s, \"the grade is Fail\")    "
   ]
  },
  {
   "cell_type": "code",
   "execution_count": 8,
   "metadata": {},
   "outputs": [
    {
     "name": "stdout",
     "output_type": "stream",
     "text": [
      "Enter a number: 3\n",
      "This is an odd number.\n"
     ]
    }
   ],
   "source": [
    "num=int(input(\"Enter a number: \"))\n",
    "mod=num % 2\n",
    "if mod > 0:\n",
    "    print(\"This is an odd number.\")\n",
    "else:\n",
    "    print(\"This is an even number.\")"
   ]
  },
  {
   "cell_type": "code",
   "execution_count": 7,
   "metadata": {},
   "outputs": [
    {
     "name": "stdout",
     "output_type": "stream",
     "text": [
      "The lenght of the list is:  5\n"
     ]
    }
   ],
   "source": [
    "l= [1,2,3,4,5]\n",
    "print (\"The lenght of the list is: \", len(l))"
   ]
  },
  {
   "cell_type": "code",
   "execution_count": 9,
   "metadata": {},
   "outputs": [
    {
     "name": "stdout",
     "output_type": "stream",
     "text": [
      "Sum of elements in given list is : 30\n"
     ]
    }
   ],
   "source": [
    "lst=[2,4,6,8,10]\n",
    "print(\"Sum of elements in given list is :\", sum(lst))"
   ]
  },
  {
   "cell_type": "code",
   "execution_count": 10,
   "metadata": {},
   "outputs": [
    {
     "name": "stdout",
     "output_type": "stream",
     "text": [
      "Sum of elements in given list is : 10\n"
     ]
    }
   ],
   "source": [
    "lst=[2,4,6,8,10]\n",
    "print(\"Sum of elements in given list is :\", max(lst))"
   ]
  },
  {
   "cell_type": "code",
   "execution_count": 14,
   "metadata": {},
   "outputs": [
    {
     "name": "stdout",
     "output_type": "stream",
     "text": [
      "[1, 1, 2, 3]\n"
     ]
    }
   ],
   "source": [
    "a=[1, 1, 2, 3, 5, 8, 13, 21, 34, 55, 89]\n",
    "lst=[]\n",
    "for i in a:\n",
    "    if item < 5:\n",
    "        lst.append(i)\n",
    "print(new_list)"
   ]
  }
 ],
 "metadata": {
  "kernelspec": {
   "display_name": "Python 3",
   "language": "python",
   "name": "python3"
  },
  "language_info": {
   "codemirror_mode": {
    "name": "ipython",
    "version": 3
   },
   "file_extension": ".py",
   "mimetype": "text/x-python",
   "name": "python",
   "nbconvert_exporter": "python",
   "pygments_lexer": "ipython3",
   "version": "3.7.4"
  }
 },
 "nbformat": 4,
 "nbformat_minor": 2
}
