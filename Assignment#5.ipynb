{
  "nbformat": 4,
  "nbformat_minor": 0,
  "metadata": {
    "colab": {
      "name": "Assignment#5",
      "provenance": [],
      "collapsed_sections": []
    },
    "kernelspec": {
      "name": "python3",
      "display_name": "Python 3"
    }
  },
  "cells": [
    {
      "cell_type": "code",
      "metadata": {
        "id": "V2b9U3G0Apy8",
        "colab_type": "code",
        "outputId": "19745bf5-5b69-48c5-e90d-f7da43fa7483",
        "colab": {
          "base_uri": "https://localhost:8080/",
          "height": 51
        }
      },
      "source": [
        "n=int(input(\"Enter a number to compute the factorial : \"))\n",
        "def Factorial(n):\n",
        "  if n==0:\n",
        "    return 1\n",
        "  else:\n",
        "    return n*Factorial(n-1)\n",
        "print(Factorial(n))"
      ],
      "execution_count": 0,
      "outputs": [
        {
          "output_type": "stream",
          "text": [
            "Enter a number to compute the factorial : 4\n",
            "24\n"
          ],
          "name": "stdout"
        }
      ]
    },
    {
      "cell_type": "code",
      "metadata": {
        "id": "NsJla7lfCqmz",
        "colab_type": "code",
        "outputId": "0467a279-a39d-4ae8-e40e-e5d05a95ec76",
        "colab": {
          "base_uri": "https://localhost:8080/",
          "height": 85
        }
      },
      "source": [
        "String=str(input(\"Enter a String : \"))\n",
        "def String_test(String):\n",
        "  Uppercase=0\n",
        "  Lowercase=0\n",
        "  for i in String:\n",
        "    if (i.isupper()):\n",
        "      Uppercase+=1\n",
        "    elif (i.islower)():\n",
        "      Lowercase+=1\n",
        "  print(\"Original String is \", String)\n",
        "  print(\"no. of uppercase is \", Uppercase)\n",
        "  print(\"no. of lowercase is\", Lowercase)\n",
        "String_test(String)"
      ],
      "execution_count": 0,
      "outputs": [
        {
          "output_type": "stream",
          "text": [
            "Enter a String : The quick Brown Fox\n",
            "Original String is  The quick Brown Fox\n",
            "no. of uppercase is  3\n",
            "no. of lowercase is 13\n"
          ],
          "name": "stdout"
        }
      ]
    },
    {
      "cell_type": "code",
      "metadata": {
        "id": "qnF1ZxiqLJyQ",
        "colab_type": "code",
        "outputId": "7cf7893a-1833-4667-c75e-4dd70d92ab93",
        "colab": {
          "base_uri": "https://localhost:8080/",
          "height": 51
        }
      },
      "source": [
        "n=int(input(\"Enter a number : \"))\n",
        "def isPrime(n):\n",
        "  if n>1:\n",
        "    for i in range(2,n):\n",
        "      if (n%i==0):\n",
        "        print(n, \"is not a Prime Number\")\n",
        "        break\n",
        "    else:\n",
        "      print(n,\"is a Prime Number\")\n",
        "  else:\n",
        "    print(n,\"is not a Prime Number\")\n",
        "isPrime(n)\n"
      ],
      "execution_count": 0,
      "outputs": [
        {
          "output_type": "stream",
          "text": [
            "Enter a number : 2\n",
            "2 is a Prime Number\n"
          ],
          "name": "stdout"
        }
      ]
    },
    {
      "cell_type": "code",
      "metadata": {
        "id": "29IQPGs0Ndgv",
        "colab_type": "code",
        "colab": {
          "base_uri": "https://localhost:8080/",
          "height": 34
        },
        "outputId": "0727e8b5-e1f0-439b-cb31-55ca78a623df"
      },
      "source": [
        "def even(n):\n",
        "  e=[]\n",
        "  for i in n:\n",
        "    if i%2 ==0:\n",
        "      e.append(i)\n",
        "    \n",
        "  return e\n",
        "print(even([2,7,6,8]))\n",
        "      \n"
      ],
      "execution_count": 26,
      "outputs": [
        {
          "output_type": "stream",
          "text": [
            "[2, 6, 8]\n"
          ],
          "name": "stdout"
        }
      ]
    },
    {
      "cell_type": "code",
      "metadata": {
        "id": "9I1vvgfPQ-eD",
        "colab_type": "code",
        "colab": {
          "base_uri": "https://localhost:8080/",
          "height": 51
        },
        "outputId": "915b5b6f-b73a-42ad-88f0-a20d5e0e2a59"
      },
      "source": [
        "def reverse(s): \n",
        "    return s[::-1] \n",
        "  \n",
        "def isPalindrome(s): \n",
        "    rev = reverse(s) \n",
        "\n",
        "    if (s == rev): \n",
        "        return True\n",
        "    return False\n",
        "  \n",
        "s = str(input(\"Enter a String\"))\n",
        "ans = isPalindrome(s) \n",
        "  \n",
        "if ans == 1: \n",
        "    print(\"Yes\") \n",
        "else: \n",
        "    print(\"No\")\n"
      ],
      "execution_count": 28,
      "outputs": [
        {
          "output_type": "stream",
          "text": [
            "Enter a Stringlol\n",
            "Yes\n"
          ],
          "name": "stdout"
        }
      ]
    },
    {
      "cell_type": "code",
      "metadata": {
        "id": "OeP4NGWfRz5X",
        "colab_type": "code",
        "colab": {
          "base_uri": "https://localhost:8080/",
          "height": 85
        },
        "outputId": "c098acce-1201-4a4f-a803-ea398a095fa9"
      },
      "source": [
        "def Shopping_list(*items):\n",
        "  for Shopping_list in items:\n",
        "    print(Shopping_list)\n",
        "Shopping_list(\"jam\",\"egs\",\"sugar\",\"butter\")"
      ],
      "execution_count": 29,
      "outputs": [
        {
          "output_type": "stream",
          "text": [
            "jam\n",
            "egs\n",
            "sugar\n",
            "butter\n"
          ],
          "name": "stdout"
        }
      ]
    }
  ]
}