{
 "cells": [
  {
   "cell_type": "code",
   "execution_count": 49,
   "metadata": {},
   "outputs": [
    {
     "name": "stdout",
     "output_type": "stream",
     "text": [
      "Enter first value: 2\n",
      "Enter second value: 3\n",
      "Enter your required operation here: ^\n",
      "Answer : 8\n"
     ]
    }
   ],
   "source": [
    "#Q1\n",
    "\n",
    "num1 = int(input(\"Enter first value: \"))\n",
    "num2 = int(input(\"Enter second value: \"))\n",
    "\n",
    "operation = input(\"Enter your required operation here: \")\n",
    "\n",
    "if operation == \"+\":\n",
    "    ans = num1+num2\n",
    "elif operation == \"-\":\n",
    "    ans = num1-num2\n",
    "elif operation == \"*\":\n",
    "    ans = num1*num2\n",
    "elif operation == \"/\":\n",
    "    ans = num1/num2\n",
    "elif operation == \"^\":\n",
    "    ans = num1**num2\n",
    "    \n",
    "print(\"Answer :\",ans)"
   ]
  },
  {
   "cell_type": "code",
   "execution_count": 15,
   "metadata": {},
   "outputs": [
    {
     "name": "stdout",
     "output_type": "stream",
     "text": [
      "Numeric value found : 19.97\n"
     ]
    }
   ],
   "source": [
    "#Q2\n",
    "\n",
    "lst = [\"Ammad\",\"Apple\",19.97,\"Hello_World\",54,76,80.21 ]\n",
    "\n",
    "for value in lst:\n",
    "    if type(value) == int or type(value) == float:\n",
    "        print(\"Numeric value found :\", value)\n",
    "        break"
   ]
  },
  {
   "cell_type": "code",
   "execution_count": 52,
   "metadata": {},
   "outputs": [
    {
     "name": "stdout",
     "output_type": "stream",
     "text": [
      "{'ID': '0001 ', 'Full Name': 'Ammad', 'Father Name': 'Ali', 'Salary': '32,000'}\n"
     ]
    }
   ],
   "source": [
    "#Q3\n",
    "Emp = {\"ID\": \"0001 \",\"Full Name\": \"Ammad\",\"Father Name\": \"Ali\",}\n",
    "Emp[\"Salary\"] = \"32,000\"\n",
    "\n",
    "print(Emp)"
   ]
  },
  {
   "cell_type": "code",
   "execution_count": 53,
   "metadata": {},
   "outputs": [
    {
     "name": "stdout",
     "output_type": "stream",
     "text": [
      "Sum of all Numeric Values is:  55.2\n"
     ]
    }
   ],
   "source": [
    "#Q4\n",
    "\n",
    "result = 0\n",
    "dic = {\"Name\":\"Muhammad Ammad\" ,\"Age\":22 ,\"Learning\":\"Python\", \"From weeks\":3, \"Course Covered\":30.20}\n",
    "\n",
    "for value in dic.values():\n",
    "    if type(value) == int or type(value) == float:\n",
    "        result = result + value        \n",
    "        \n",
    "print(\"Sum of all Numeric Values is: \", result)"
   ]
  },
  {
   "cell_type": "code",
   "execution_count": 55,
   "metadata": {},
   "outputs": [
    {
     "name": "stdout",
     "output_type": "stream",
     "text": [
      "These are the repeating values [1, 6, 4]\n"
     ]
    }
   ],
   "source": [
    "#Q5\n",
    "\n",
    "lst = [2,3,4,5,6,9,1,1,6,4,8]\n",
    "\n",
    "dup_items = []\n",
    "uni_items = {}\n",
    "\n",
    "for value in lst:\n",
    "    if value not in uni_items:\n",
    "        uni_items[value] = 1    \n",
    "    elif uni_items[value] == 1:\n",
    "         dup_items.append(value)\n",
    "uni_items[value] += 1\n",
    "\n",
    "print(\"These are the repeating values\",dup_items)"
   ]
  },
  {
   "cell_type": "code",
   "execution_count": 63,
   "metadata": {},
   "outputs": [
    {
     "name": "stdout",
     "output_type": "stream",
     "text": [
      "Enter a key: 6\n",
      "New key 6 Does not exist\n"
     ]
    }
   ],
   "source": [
    "#Q6\n",
    "\n",
    "dic = { 1: \"Muhammad\",2: \"Ammad\",3: \"Ali\",4:\"Python_Learner\"}\n",
    "\n",
    "key= int(input(\"Enter a key: \"))\n",
    "\n",
    "if key in dic:\n",
    "    print(\"New key\",key,\"Already exist\")\n",
    "else:\n",
    "    print(\"New key\",key,\"Does not exist\")"
   ]
  }
 ],
 "metadata": {
  "kernelspec": {
   "display_name": "Python 3",
   "language": "python",
   "name": "python3"
  },
  "language_info": {
   "codemirror_mode": {
    "name": "ipython",
    "version": 3
   },
   "file_extension": ".py",
   "mimetype": "text/x-python",
   "name": "python",
   "nbconvert_exporter": "python",
   "pygments_lexer": "ipython3",
   "version": "3.7.4"
  }
 },
 "nbformat": 4,
 "nbformat_minor": 2
}
